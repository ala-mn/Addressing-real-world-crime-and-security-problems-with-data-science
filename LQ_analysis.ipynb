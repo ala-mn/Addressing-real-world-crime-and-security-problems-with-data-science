{
 "cells": [
  {
   "cell_type": "markdown",
   "id": "b75d8a17",
   "metadata": {},
   "source": [
    "# LQ analysis\n",
    "\n",
    "Since using absolute crime counts did not seem very insightful in terms crime type correlation, I attempted to look at crime counts using Location Quotients (LQs):\n",
    "\n",
    "A measure of local concentration relative to a region, LQs are calculated for a certain crime category in an area. This measure is the ratio between the local share of crime in this category and the citywide share of crime in this category.\n",
    "\n",
    "An LQ equal to 1 indicates that the local proportion of crime in a category is equal to the citywide share of crime in that category. An LQ more than 1 indicates that crime is locally overrepresented relative to its share of citywide crime, while an LQ less than 1 shows that crime is locally underrepresented.\n",
    "\n",
    "\n",
    "Source: caranvr.github.io/gentrification-crime-ldn/"
   ]
  },
  {
   "cell_type": "markdown",
   "id": "82ff6945",
   "metadata": {},
   "source": [
    "### Preparation"
   ]
  },
  {
   "cell_type": "code",
   "execution_count": null,
   "id": "56961b43",
   "metadata": {},
   "outputs": [],
   "source": [
    "import pandas as pd\n",
    "import geopandas as gpd\n",
    "import seaborn as sns\n",
    "import matplotlib.pyplot as plt\n",
    "import plotly.express as px\n",
    "import json"
   ]
  },
  {
   "cell_type": "code",
   "execution_count": null,
   "id": "24cd0a68",
   "metadata": {},
   "outputs": [],
   "source": [
    "crimes = pd.read_csv('data/all_crimes_2022-2025.csv')"
   ]
  },
  {
   "cell_type": "code",
   "execution_count": null,
   "id": "415809e1",
   "metadata": {},
   "outputs": [],
   "source": [
    "crimes['Month'] = pd.to_datetime(crimes['Month'])\n",
    "\n",
    "gdf_crimes = gpd.GeoDataFrame(\n",
    "    crimes,\n",
    "    geometry=gpd.points_from_xy(crimes['Longitude'], crimes['Latitude']),\n",
    "    crs=\"EPSG:4326\"\n",
    ")\n",
    "\n",
    "LSOAs = gpd.read_file('data/LSOAs.geojson').to_crs(epsg=4326)\n",
    "\n",
    "gdf_joined_lsoa = gpd.sjoin(\n",
    "    gdf_crimes,\n",
    "    LSOAs[['geometry', 'LSOA11NM']],\n",
    "    how='left',\n",
    "    predicate='within'\n",
    ")\n",
    "\n",
    "# Count crimes per LSOA and crime type\n",
    "lsoa_counts = (\n",
    "    gdf_joined_lsoa\n",
    "    .dropna(subset=['LSOA11NM'])\n",
    "    .groupby(['LSOA11NM', 'Crime type'])\n",
    "    .size()\n",
    "    .reset_index(name='count')\n",
    ")\n",
    "\n",
    "# Create grid\n",
    "lsoa_crime_grid = lsoa_counts.pivot(index='LSOA11NM', columns='Crime type', values='count').fillna(0).astype(int)\n",
    "\n",
    "lsoa_crime_grid.head()"
   ]
  },
  {
   "cell_type": "markdown",
   "id": "e31776d6",
   "metadata": {},
   "source": [
    "### Calculate LQs"
   ]
  },
  {
   "cell_type": "code",
   "execution_count": null,
   "id": "1366c173",
   "metadata": {},
   "outputs": [],
   "source": [
    "# Calculate the total crime counts per LSOA\n",
    "total_crimes_per_lsoa = lsoa_crime_grid.sum(axis=1)\n",
    "\n",
    "# Calculate the total crimes per crime type (all LSOAs)\n",
    "total_crimes_per_type = lsoa_crime_grid.sum(axis=0)\n",
    "\n",
    "# Calculate the total crimes (all LSOAs) and crime types\n",
    "total_crimes_overall = total_crimes_per_type.sum()\n",
    "\n",
    "# Calculate LQs\n",
    "lq_matrix = (lsoa_crime_grid.div(total_crimes_per_lsoa, axis=0)) / (total_crimes_per_type / total_crimes_overall)\n",
    "\n",
    "# Handle missing values by filling with 0\n",
    "lq_matrix = lq_matrix.fillna(0)\n",
    "\n",
    "lq_matrix.head()"
   ]
  },
  {
   "cell_type": "markdown",
   "id": "1cc208e7",
   "metadata": {},
   "source": [
    "### Calculate correlation & show heatmap"
   ]
  },
  {
   "cell_type": "code",
   "execution_count": null,
   "id": "f7551033",
   "metadata": {},
   "outputs": [],
   "source": [
    "lq_corr = lq_matrix.corr()\n",
    "\n",
    "lq_corr.head()\n"
   ]
  },
  {
   "cell_type": "code",
   "execution_count": null,
   "id": "36c6f945",
   "metadata": {},
   "outputs": [],
   "source": [
    "plt.figure(figsize=(12, 8))\n",
    "sns.heatmap(lq_corr, cmap='RdBu_r', vmin=-1, vmax=1, annot=True)\n",
    "plt.title('Correlation of Crime Types Based on LQ (LSOA)')\n",
    "plt.tight_layout()\n",
    "plt.show()"
   ]
  },
  {
   "cell_type": "markdown",
   "id": "7555b851",
   "metadata": {},
   "source": [
    "### Map Burglary LQ"
   ]
  },
  {
   "cell_type": "code",
   "execution_count": null,
   "id": "33f05c54",
   "metadata": {},
   "outputs": [],
   "source": [
    "# lq_burglary = lq_matrix['Burglary']\n",
    "\n",
    "# lq_burglary_df = lq_burglary.reset_index(name='LQ_Burglary')\n",
    "\n",
    "# lq_burglary_gdf = LSOAs.merge(lq_burglary_df, left_on='LSOA11NM', right_on='LSOA11NM', how='left')\n",
    "\n",
    "# lq_burglary_gdf[['LSOA11NM', 'LQ_Burglary']].head()\n"
   ]
  },
  {
   "cell_type": "code",
   "execution_count": null,
   "id": "4905f87b",
   "metadata": {},
   "outputs": [],
   "source": [
    "# fig = px.choropleth_map(\n",
    "#     lq_burglary_gdf,\n",
    "#     geojson=json.loads(LSOAs.to_json()),\n",
    "#     locations='LSOA11NM',\n",
    "#     featureidkey=\"properties.LSOA11NM\",\n",
    "#     color='LQ_Burglary',\n",
    "#     color_continuous_scale=\"RdYlGn_r\",\n",
    "#     range_color=(0, 2),\n",
    "#     map_style=\"open-street-map\",\n",
    "#     zoom=9,\n",
    "#     center={\"lat\": 51.5072, \"lon\": -0.1276},\n",
    "#     opacity=0.6,\n",
    "#     height=600\n",
    "# )\n",
    "\n",
    "# fig.update_layout(title='Burglary LQ Across London (LSOA)')\n",
    "# fig.show()"
   ]
  },
  {
   "cell_type": "code",
   "execution_count": null,
   "id": "89902f89",
   "metadata": {},
   "outputs": [],
   "source": [
    "# Plot for each crime type\n",
    "for crime_type in lq_matrix.columns:\n",
    "    lq_column = lq_matrix[crime_type].rename(f'LQ_{crime_type}')\n",
    "    lq_df = lq_column.reset_index()\n",
    "    lq_gdf = LSOAs.merge(lq_df, on='LSOA11NM', how='left')\n",
    "\n",
    "    fig = px.choropleth_map(\n",
    "        lq_gdf,\n",
    "        geojson=json.loads(LSOAs.to_json()),\n",
    "        locations='LSOA11NM',\n",
    "        featureidkey=\"properties.LSOA11NM\",\n",
    "        color=f'LQ_{crime_type}',\n",
    "        color_continuous_scale=\"RdYlGn_r\",\n",
    "        range_color=(0, 2),\n",
    "        map_style=\"open-street-map\",\n",
    "        zoom=9,\n",
    "        center={\"lat\": 51.5072, \"lon\": -0.1276},\n",
    "        opacity=0.6,\n",
    "        height=600\n",
    "    )\n",
    "\n",
    "    fig.update_layout(title=f'{crime_type} LQ Across London (LSOA)')\n",
    "    fig.show()"
   ]
  },
  {
   "cell_type": "code",
   "execution_count": null,
   "id": "a8c17e8c",
   "metadata": {},
   "outputs": [],
   "source": [
    "# # Plot Burglary & Vehicle crime\n",
    "# for crime_type in lq_matrix.columns:\n",
    "#     if crime_type == \"Burglary\" or crime_type == \"Vehicle crime\":\n",
    "\n",
    "#         lq_column = lq_matrix[crime_type].rename(f'LQ_{crime_type}')\n",
    "#         lq_df = lq_column.reset_index()\n",
    "#         lq_gdf = LSOAs.merge(lq_df, on='LSOA11NM', how='left')\n",
    "\n",
    "#         fig = px.choropleth_map(\n",
    "#             lq_gdf,\n",
    "#             geojson=json.loads(LSOAs.to_json()),\n",
    "#             locations='LSOA11NM',\n",
    "#             featureidkey=\"properties.LSOA11NM\",\n",
    "#             color=f'LQ_{crime_type}',\n",
    "#             color_continuous_scale=\"RdYlGn_r\",\n",
    "#             range_color=(0, 2),\n",
    "#             map_style=\"open-street-map\",\n",
    "#             zoom=9,\n",
    "#             center={\"lat\": 51.5072, \"lon\": -0.1276},\n",
    "#             opacity=0.6,\n",
    "#             height=600\n",
    "#         )\n",
    "\n",
    "#         fig.update_layout(title=f'{crime_type} LQ Across London (LSOA)')\n",
    "#         fig.show()"
   ]
  },
  {
   "cell_type": "code",
   "execution_count": null,
   "id": "1637211e",
   "metadata": {},
   "outputs": [],
   "source": [
    "lq_burglary = lq_matrix['Burglary']\n",
    "lq_vehicle = lq_matrix['Vehicle crime']\n",
    "\n",
    "# Calculate average LQ\n",
    "lq_avg = ((lq_burglary + lq_vehicle) / 2).rename('LQ_Avg_Burg_Vehicle')\n",
    "lq_avg_df = lq_avg.reset_index()\n",
    "\n",
    "lq_avg_gdf = LSOAs.merge(lq_avg_df, on='LSOA11NM', how='left')\n",
    "\n",
    "fig = px.choropleth_map(\n",
    "    lq_avg_gdf,\n",
    "    geojson=json.loads(LSOAs.to_json()),\n",
    "    locations='LSOA11NM',\n",
    "    featureidkey=\"properties.LSOA11NM\",\n",
    "    color='LQ_Avg_Burg_Vehicle',\n",
    "    color_continuous_scale=\"RdYlGn_r\",\n",
    "    range_color=(0, 2),\n",
    "    map_style=\"open-street-map\",\n",
    "    zoom=9,\n",
    "    center={\"lat\": 51.5072, \"lon\": -0.1276},\n",
    "    opacity=0.6,\n",
    "    height=600\n",
    ")\n",
    "\n",
    "fig.update_layout(title='Average LQ of Burglary & Vehicle Crime Across London (LSOA)')\n",
    "fig.show()\n"
   ]
  },
  {
   "cell_type": "markdown",
   "id": "aafdaa20",
   "metadata": {},
   "source": [
    "### Conclusions\n",
    "\n",
    "Compared to the absolute crime counts, this LQ strategy seems way more reliable and I am able to very quickly see obvious patterns for crimes (example: Bicycle theft, Shoplifting, Theft from the person). Thus this seems to provide way more insight. What is interesting, is that the correlation between Burglary LQ and Vehicle crime LQ is the third highest of all pairs. When comparing those two maps, it seems like specific broader regions in (mostly) the suburbs seem to have a high similarity on both Burglary and Vehicle crime LQ's maps (they seem to peak at comparable regions). When mapping the average of Burglary and Vehicle crime LQ's per LSOA, it still represents both relatively well. This correlation could have some economical (or social) causes, which we will have to dive into deeper."
   ]
  }
 ],
 "metadata": {
  "kernelspec": {
   "display_name": "Python 3",
   "language": "python",
   "name": "python3"
  },
  "language_info": {
   "codemirror_mode": {
    "name": "ipython",
    "version": 3
   },
   "file_extension": ".py",
   "mimetype": "text/x-python",
   "name": "python",
   "nbconvert_exporter": "python",
   "pygments_lexer": "ipython3",
   "version": "3.12.0"
  }
 },
 "nbformat": 4,
 "nbformat_minor": 5
}
