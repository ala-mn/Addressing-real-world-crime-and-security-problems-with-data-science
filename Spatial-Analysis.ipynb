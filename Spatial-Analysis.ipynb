{
 "cells": [
  {
   "cell_type": "code",
   "execution_count": 41,
   "id": "9aca809e-77de-4c26-9f7e-1f08b150f3a2",
   "metadata": {},
   "outputs": [],
   "source": [
    "import plotly.express as px\n",
    "import pandas as pd\n",
    "import numpy as np\n",
    "import geopandas as gpd\n",
    "import json\n",
    "\n",
    "import seaborn as sns\n",
    "import matplotlib.pyplot as plt\n",
    "\n",
    "from libpysal.weights import Queen\n",
    "from spreg import ML_Lag"
   ]
  },
  {
   "cell_type": "code",
   "execution_count": 361,
   "id": "98f03ac9-fc47-45a5-a945-a1a7f07a1427",
   "metadata": {},
   "outputs": [],
   "source": [
    "# crimes from 2019\n",
    "crimes = pd.read_csv('data/2019-data.csv')"
   ]
  },
  {
   "cell_type": "code",
   "execution_count": 362,
   "id": "dbc4da05-39bf-40e1-b47e-056a05d874f8",
   "metadata": {},
   "outputs": [],
   "source": [
    "# clean data\n",
    "crimes = crimes[(crimes['Falls within'] == 'Metropolitan Police Service')]\n",
    "crimes = crimes[crimes['Crime type'] == 'Burglary']\n",
    "crimes = crimes.drop(['Context', 'Crime type', 'Crime ID', 'Reported by', 'Falls within', 'Last outcome category'], axis=1)\n",
    "burglaries = crimes.dropna().reset_index(drop=True)"
   ]
  },
  {
   "cell_type": "code",
   "execution_count": 363,
   "id": "d0bb5655-907d-48a6-8dcd-5035b561c78c",
   "metadata": {},
   "outputs": [],
   "source": [
    "boroughs = gpd.read_file('geodata/boroughs.geojson')\n",
    "boroughs = boroughs.to_crs(epsg=4326)\n",
    "\n",
    "wards = gpd.read_file('geodata/wards.geojson')\n",
    "wards = wards.to_crs(epsg=4326)\n",
    "\n",
    "gdf_burg = gpd.GeoDataFrame(\n",
    "    burg,\n",
    "    geometry=gpd.points_from_xy(burglaries['Longitude'], burglaries['Latitude']),\n",
    "    crs=\"EPSG:4326\"\n",
    ")"
   ]
  },
  {
   "cell_type": "code",
   "execution_count": 364,
   "id": "f63ba6ff-c36e-47e2-a5e5-d8bc5a518042",
   "metadata": {},
   "outputs": [],
   "source": [
    "# for boroughs\n",
    "burg_gdf_boroughs = gpd.sjoin(\n",
    "    gdf_burg,\n",
    "    boroughs[['geometry', 'Name']],\n",
    "    how='left',\n",
    "    predicate='within'\n",
    ")\n",
    "\n",
    "burglary_counts = (\n",
    "    burg_gdf_boroughs\n",
    "    .dropna(subset=['Name'])\n",
    "    .groupby('Name')\n",
    "    .size()\n",
    "    .reset_index(name='Count')\n",
    ")"
   ]
  },
  {
   "cell_type": "code",
   "execution_count": 29,
   "id": "ecfc89b6-5de0-441b-8b4c-76670a06a9ee",
   "metadata": {},
   "outputs": [],
   "source": [
    "# fig = px.choropleth_map(\n",
    "#     burglary_counts,\n",
    "#     geojson=json.loads(boroughs.to_json()),\n",
    "#     locations='Name',\n",
    "#     featureidkey=\"properties.Name\",\n",
    "#     color='Count',\n",
    "#     color_continuous_scale=\"OrRd\",\n",
    "#     map_style=\"open-street-map\",\n",
    "#     zoom=9,\n",
    "#     center={\"lat\": 51.5072, \"lon\": -0.1276},\n",
    "#     opacity=0.6,\n",
    "#     height=600\n",
    "# )\n",
    "\n",
    "# fig.update_layout(title='Burglary Heatmap by London Borough 2019')\n",
    "# fig.show()"
   ]
  },
  {
   "cell_type": "code",
   "execution_count": 365,
   "id": "2bc7f8d5-d96b-41a8-9dd8-9a2f3d611565",
   "metadata": {},
   "outputs": [],
   "source": [
    "# for wards\n",
    "burg_gdf_wards = gpd.sjoin(\n",
    "    gdf_burg,\n",
    "    wards[['geometry', 'Name']],\n",
    "    how='right',\n",
    "    predicate='within'\n",
    ").drop('index_left', axis=1).reset_index(drop=True)\n",
    "\n",
    "wards_burglary_counts = (\n",
    "    burg_gdf_wards\n",
    "    .dropna(subset=['Name'])\n",
    "    .groupby('Name')\n",
    "    .size()\n",
    "    .reset_index(name='Count')\n",
    ")"
   ]
  },
  {
   "cell_type": "code",
   "execution_count": 315,
   "id": "6f370dd1-ab73-4fdf-b7b7-d2a6241f0d4a",
   "metadata": {},
   "outputs": [],
   "source": [
    "# fig = px.choropleth_map(\n",
    "#     wards_burglary_counts,\n",
    "#     geojson=json.loads(wards.to_json()),\n",
    "#     locations='Name',\n",
    "#     featureidkey=\"properties.Name\",\n",
    "#     color='Count',\n",
    "#     color_continuous_scale=\"OrRd\",\n",
    "#     map_style=\"open-street-map\",\n",
    "#     zoom=9,\n",
    "#     center={\"lat\": 51.5072, \"lon\": -0.1276},\n",
    "#     opacity=0.6,\n",
    "#     height=600\n",
    "# )\n",
    "\n",
    "# fig.update_layout(title='Burglary Heatmap by London Ward')\n",
    "# fig.show()"
   ]
  },
  {
   "cell_type": "code",
   "execution_count": 366,
   "id": "e0332757-dc98-4e22-a2dd-3d885e2e2967",
   "metadata": {},
   "outputs": [
    {
     "data": {
      "text/plain": [
       "Index(['Ward Code', 'Name', 'Borough', 'Population', 'Working age population',\n",
       "       'Child population', '16-59 population', 'Old age population',\n",
       "       'IMD Extent %', 'IMD Extent Rank', 'IMD Average rank',\n",
       "       'IMD average rank rank', 'IMD average score', 'IMD average score rank',\n",
       "       'Rank of worst LSOA', 'Worst LSOA Code',\n",
       "       'Worst LSOA: % of resident in ward', 'Number of LSOAs',\n",
       "       '# LSOAs in worst 5%', '# LSOAs in worst 10%', '# LSOAs in worst 20%',\n",
       "       '# LSOAs in worst 50%', 'Income scale', 'Income score', 'Income rank',\n",
       "       'Employment scale', 'Employment score', 'Employment rank',\n",
       "       'IDACI scale', 'IDACI score', 'IDACI score rank', 'IDAOPI scale',\n",
       "       'IDAOPI score', 'IDAOPI score (rank)'],\n",
       "      dtype='object')"
      ]
     },
     "execution_count": 366,
     "metadata": {},
     "output_type": "execute_result"
    }
   ],
   "source": [
    "wards = gpd.read_file('geodata/wards.geojson')\n",
    "wards = wards.to_crs(epsg=4326)\n",
    "\n",
    "wards = wards.merge(wards_burglary_counts[['Name', 'Count']], on='Name', how='left')\n",
    "wards['Count'] = wards['Count'].fillna(0).astype(int)\n",
    "wards = wards.drop(columns=['GSS_Code', 'Hectares', 'Non_Inland_Area', 'LB_GSS_Code', 'Borough'])\n",
    "\n",
    "deprivation = pd.read_csv('data/wards-deprivation-2019.csv')\n",
    "deprivation = deprivation.rename(columns={'Ward Name': 'Name'})\n",
    "deprivation.columns"
   ]
  },
  {
   "cell_type": "code",
   "execution_count": 367,
   "id": "d216a83b-ae32-4a51-b3f8-d9c71ba60389",
   "metadata": {},
   "outputs": [
    {
     "data": {
      "text/html": [
       "<div>\n",
       "<style scoped>\n",
       "    .dataframe tbody tr th:only-of-type {\n",
       "        vertical-align: middle;\n",
       "    }\n",
       "\n",
       "    .dataframe tbody tr th {\n",
       "        vertical-align: top;\n",
       "    }\n",
       "\n",
       "    .dataframe thead th {\n",
       "        text-align: right;\n",
       "    }\n",
       "</style>\n",
       "<table border=\"1\" class=\"dataframe\">\n",
       "  <thead>\n",
       "    <tr style=\"text-align: right;\">\n",
       "      <th></th>\n",
       "      <th>Name</th>\n",
       "      <th>Global_Polygon_ID</th>\n",
       "      <th>geometry</th>\n",
       "      <th>Count</th>\n",
       "      <th>Population</th>\n",
       "      <th>Income rank</th>\n",
       "      <th>Employment rank</th>\n",
       "      <th>CrimeRate</th>\n",
       "    </tr>\n",
       "  </thead>\n",
       "  <tbody>\n",
       "    <tr>\n",
       "      <th>0</th>\n",
       "      <td>Chessington South</td>\n",
       "      <td>50840</td>\n",
       "      <td>POLYGON ((-0.33068 51.32901, -0.33059 51.32909...</td>\n",
       "      <td>47</td>\n",
       "      <td>10493.0</td>\n",
       "      <td>465.0</td>\n",
       "      <td>475.0</td>\n",
       "      <td>4.479177</td>\n",
       "    </tr>\n",
       "    <tr>\n",
       "      <th>1</th>\n",
       "      <td>Tolworth and Hook Rise</td>\n",
       "      <td>117160</td>\n",
       "      <td>POLYGON ((-0.30846 51.37586, -0.30834 51.37606...</td>\n",
       "      <td>56</td>\n",
       "      <td>10294.0</td>\n",
       "      <td>455.0</td>\n",
       "      <td>459.0</td>\n",
       "      <td>5.440062</td>\n",
       "    </tr>\n",
       "    <tr>\n",
       "      <th>2</th>\n",
       "      <td>Berrylands</td>\n",
       "      <td>50449</td>\n",
       "      <td>POLYGON ((-0.30385 51.39249, -0.30375 51.39252...</td>\n",
       "      <td>37</td>\n",
       "      <td>9708.0</td>\n",
       "      <td>479.0</td>\n",
       "      <td>463.0</td>\n",
       "      <td>3.811290</td>\n",
       "    </tr>\n",
       "  </tbody>\n",
       "</table>\n",
       "</div>"
      ],
      "text/plain": [
       "                     Name  Global_Polygon_ID  \\\n",
       "0       Chessington South              50840   \n",
       "1  Tolworth and Hook Rise             117160   \n",
       "2              Berrylands              50449   \n",
       "\n",
       "                                            geometry  Count  Population  \\\n",
       "0  POLYGON ((-0.33068 51.32901, -0.33059 51.32909...     47     10493.0   \n",
       "1  POLYGON ((-0.30846 51.37586, -0.30834 51.37606...     56     10294.0   \n",
       "2  POLYGON ((-0.30385 51.39249, -0.30375 51.39252...     37      9708.0   \n",
       "\n",
       "   Income rank  Employment rank  CrimeRate  \n",
       "0        465.0            475.0   4.479177  \n",
       "1        455.0            459.0   5.440062  \n",
       "2        479.0            463.0   3.811290  "
      ]
     },
     "execution_count": 367,
     "metadata": {},
     "output_type": "execute_result"
    }
   ],
   "source": [
    "# CHANGE THESE\n",
    "indep_vars = ['Income rank', 'Employment rank']\n",
    "wards = wards.merge(deprivation[['Name', 'Population'] + indep_vars], on='Name', how='left')\n",
    "wards = wards.dropna()\n",
    "wards['CrimeRate'] = np.where(\n",
    "    wards['Population'] == 0,\n",
    "    0,\n",
    "    (wards['Count'] / wards['Population']) * 1000\n",
    ")\n",
    "\n",
    "wards.head(3)"
   ]
  },
  {
   "cell_type": "code",
   "execution_count": 368,
   "id": "1ca9e65d-bcfc-420a-85e9-4fa2e164cd24",
   "metadata": {},
   "outputs": [
    {
     "name": "stderr",
     "output_type": "stream",
     "text": [
      "/Library/Frameworks/Python.framework/Versions/3.10/lib/python3.10/site-packages/libpysal/weights/contiguity.py:347: UserWarning:\n",
      "\n",
      "The weights matrix is not fully connected: \n",
      " There are 2 disconnected components.\n",
      "\n"
     ]
    }
   ],
   "source": [
    "w = Queen.from_dataframe(wards, use_index = False)\n",
    "w.transform = 'r'"
   ]
  },
  {
   "cell_type": "code",
   "execution_count": 369,
   "id": "14f7a037-12d2-4388-89cb-4184f069fdd1",
   "metadata": {},
   "outputs": [],
   "source": [
    "y = wards['CrimeRate'].values.reshape(-1, 1)    # dependent variable\n",
    "X = wards[indep_vars].values                       # independent variables"
   ]
  },
  {
   "cell_type": "code",
   "execution_count": 370,
   "id": "a4913ab5-b235-45e2-a832-fc98302de609",
   "metadata": {},
   "outputs": [
    {
     "name": "stdout",
     "output_type": "stream",
     "text": [
      "REGRESSION RESULTS\n",
      "------------------\n",
      "\n",
      "SUMMARY OF OUTPUT: MAXIMUM LIKELIHOOD SPATIAL LAG (METHOD = FULL)\n",
      "-----------------------------------------------------------------\n",
      "Data set            :     unknown\n",
      "Weights matrix      :     unknown\n",
      "Dependent Variable  :   CrimeRate                Number of Observations:         600\n",
      "Mean dependent var  :     10.6395                Number of Variables   :           4\n",
      "S.D. dependent var  :      7.2401                Degrees of Freedom    :         596\n",
      "Pseudo R-squared    :      0.2379\n",
      "Spatial Pseudo R-squared:  0.0017\n",
      "Log likelihood      :  -1987.1638\n",
      "Sigma-square ML     :     41.5026                Akaike info criterion :    3982.328\n",
      "S.E of regression   :      6.4422                Schwarz criterion     :    3999.915\n",
      "\n",
      "------------------------------------------------------------------------------------\n",
      "            Variable     Coefficient       Std.Error     z-Statistic     Probability\n",
      "------------------------------------------------------------------------------------\n",
      "            CONSTANT         4.08178         0.70449         5.79392         0.00000\n",
      "         Income rank         0.00493         0.00556         0.88590         0.37567\n",
      "     Employment rank        -0.00222         0.00549        -0.40509         0.68541\n",
      "         W_CrimeRate         0.52968         0.04652        11.38711         0.00000\n",
      "------------------------------------------------------------------------------------\n",
      "\n",
      "SPATIAL LAG MODEL IMPACTS\n",
      "Impacts computed using the 'simple' method.\n",
      "            Variable         Direct        Indirect          Total\n",
      "         Income rank         0.0049          0.0055          0.0105\n",
      "     Employment rank        -0.0022         -0.0025         -0.0047\n",
      "================================ END OF REPORT =====================================\n"
     ]
    }
   ],
   "source": [
    "model = ML_Lag(y, X, w=w, name_y='CrimeRate', name_x=indep_vars)\n",
    "print(model.summary)"
   ]
  },
  {
   "cell_type": "code",
   "execution_count": 371,
   "id": "42005b31-3ec0-436e-bf6c-45cca97e92c4",
   "metadata": {},
   "outputs": [
    {
     "name": "stderr",
     "output_type": "stream",
     "text": [
      "/Library/Frameworks/Python.framework/Versions/3.10/lib/python3.10/site-packages/libpysal/weights/contiguity.py:347: UserWarning:\n",
      "\n",
      "The weights matrix is not fully connected: \n",
      " There are 2 disconnected components.\n",
      "\n"
     ]
    },
    {
     "data": {
      "text/plain": [
       "(np.float64(0.2781043741763614), np.float64(0.001))"
      ]
     },
     "execution_count": 371,
     "metadata": {},
     "output_type": "execute_result"
    }
   ],
   "source": [
    "from esda.moran import Moran\n",
    "from splot.esda import moran_scatterplot\n",
    "\n",
    "w = Queen.from_dataframe(wards, use_index = False)\n",
    "w.transform = 'r'\n",
    "\n",
    "y = wards['CrimeRate'].values\n",
    "\n",
    "mi = Moran(y, w)\n",
    "\n",
    "mi.I, mi.p_sim"
   ]
  },
  {
   "cell_type": "code",
   "execution_count": 372,
   "id": "ecbca20a-6edc-483a-9fbd-f66e06b0dd3d",
   "metadata": {},
   "outputs": [
    {
     "data": {
      "image/png": "[encoded data removed]",
      "text/plain": [
       "<Figure size 700x700 with 1 Axes>"
      ]
     },
     "metadata": {},
     "output_type": "display_data"
    }
   ],
   "source": [
    "fig, ax = moran_scatterplot(mi, aspect_equal=True)\n",
    "plt.show()"
   ]
  }
 ],
 "metadata": {
  "kernelspec": {
   "display_name": "Python 3 (ipykernel)",
   "language": "python",
   "name": "python3"
  },
  "language_info": {
   "codemirror_mode": {
    "name": "ipython",
    "version": 3
   },
   "file_extension": ".py",
   "mimetype": "text/x-python",
   "name": "python",
   "nbconvert_exporter": "python",
   "pygments_lexer": "ipython3",
   "version": "3.10.0"
  }
 },
 "nbformat": 4,
 "nbformat_minor": 5
}
