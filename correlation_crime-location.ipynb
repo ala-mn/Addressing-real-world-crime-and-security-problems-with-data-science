{
 "cells": [
  {
   "cell_type": "markdown",
   "metadata": {},
   "source": [
    "# Crime correlation"
   ]
  },
  {
   "cell_type": "markdown",
   "metadata": {},
   "source": [
    "#### Imports & df reading"
   ]
  },
  {
   "cell_type": "code",
   "execution_count": null,
   "metadata": {},
   "outputs": [],
   "source": [
    "import pandas as pd\n",
    "import matplotlib.pyplot as plt\n",
    "import seaborn as sns\n",
    "import geopandas as gpd\n",
    "import plotly.express as px"
   ]
  },
  {
   "cell_type": "code",
   "execution_count": null,
   "metadata": {},
   "outputs": [],
   "source": [
    "crimes = pd.read_csv('data/all_crimes_2022-2025.csv')"
   ]
  },
  {
   "cell_type": "markdown",
   "metadata": {},
   "source": [
    "### LSOA"
   ]
  },
  {
   "cell_type": "markdown",
   "metadata": {},
   "source": [
    "#### Crime correlation matrix for full database"
   ]
  },
  {
   "cell_type": "code",
   "execution_count": null,
   "metadata": {},
   "outputs": [],
   "source": [
    "crimes['Month'] = pd.to_datetime(crimes['Month'])\n",
    "\n",
    "gdf_crimes = gpd.GeoDataFrame(\n",
    "    crimes,\n",
    "    geometry=gpd.points_from_xy(crimes['Longitude'], crimes['Latitude']),\n",
    "    crs=\"EPSG:4326\"\n",
    ")\n",
    "\n",
    "LSOAs = gpd.read_file('data/LSOAs.geojson').to_crs(epsg=4326)\n",
    "\n",
    "gdf_joined_lsoa = gpd.sjoin(\n",
    "    gdf_crimes,\n",
    "    LSOAs[['geometry', 'LSOA11NM']],\n",
    "    how='left',\n",
    "    predicate='within'\n",
    ")\n",
    "\n",
    "# Count crimes per LSOA and crime type\n",
    "lsoa_counts = (\n",
    "    gdf_joined_lsoa\n",
    "    .dropna(subset=['LSOA11NM'])\n",
    "    .groupby(['LSOA11NM', 'Crime type'])\n",
    "    .size()\n",
    "    .reset_index(name='count')\n",
    ")\n",
    "\n",
    "# Create grid\n",
    "lsoa_crime_grid = lsoa_counts.pivot(index='LSOA11NM', columns='Crime type', values='count').fillna(0).astype(int)\n",
    "\n",
    "lsoa_crime_grid.head()"
   ]
  },
  {
   "cell_type": "code",
   "execution_count": null,
   "metadata": {},
   "outputs": [],
   "source": [
    "# Create correlation matrix\n",
    "lsoa_corr = lsoa_crime_grid.corr(method='pearson')\n",
    "\n",
    "plt.figure(figsize=(12, 8))\n",
    "sns.heatmap(lsoa_corr, annot=True, cmap='coolwarm', fmt=\".2f\")\n",
    "plt.title('Correlation of Crime Types (LSOA)')\n",
    "plt.show()"
   ]
  },
  {
   "cell_type": "markdown",
   "metadata": {},
   "source": [
    "#### Crime correlation matrix yearly & monthly"
   ]
  },
  {
   "cell_type": "code",
   "execution_count": null,
   "metadata": {},
   "outputs": [],
   "source": [
    "# Make Month datetime & add cols\n",
    "#crimes['Month'] = pd.to_datetime(crimes['Month'])\n",
    "\n",
    "crimes['Year'] = crimes['Month'].dt.year\n",
    "crimes['YearMonth'] = crimes['Month'].dt.to_period('M').astype(str)\n",
    "\n",
    "crimes.head()"
   ]
  },
  {
   "cell_type": "code",
   "execution_count": null,
   "metadata": {},
   "outputs": [],
   "source": [
    "# Function for yearly / monthly correlation matrix\n",
    "def plot_lsoa_crime_corr(df, title_suffix=''):\n",
    "    gdf = gpd.GeoDataFrame(\n",
    "        df,\n",
    "        geometry=gpd.points_from_xy(df['Longitude'], df['Latitude']),\n",
    "        crs=\"EPSG:4326\"\n",
    "    )\n",
    "\n",
    "    gdf = gpd.sjoin(gdf, LSOAs[['geometry', 'LSOA11NM']], how='left', predicate='within').dropna(subset=['LSOA11NM'])\n",
    "\n",
    "    counts = (\n",
    "        gdf\n",
    "        .groupby(['LSOA11NM', 'Crime type'])\n",
    "        .size()\n",
    "        .reset_index(name='count')\n",
    "    )\n",
    "\n",
    "    grid = counts.pivot(index='LSOA11NM', columns='Crime type', values='count').fillna(0).astype(int)\n",
    "\n",
    "    corr = grid.corr(method='pearson')\n",
    "\n",
    "    plt.figure(figsize=(12, 8))\n",
    "    sns.heatmap(corr, annot=True, cmap='coolwarm', fmt=\".2f\")\n",
    "    plt.title(f'Correlation of Crime Types (LSOA) {title_suffix}')\n",
    "    plt.show()"
   ]
  },
  {
   "cell_type": "code",
   "execution_count": null,
   "metadata": {},
   "outputs": [],
   "source": [
    "# Year & Month example\n",
    "plot_lsoa_crime_corr(crimes[crimes['Year'] == 2023], title_suffix='(Year 2023)')\n",
    "\n",
    "plot_lsoa_crime_corr(crimes[crimes['YearMonth'] == '2024-01'], title_suffix='(January 2024)')"
   ]
  },
  {
   "cell_type": "markdown",
   "metadata": {},
   "source": [
    "#### Animated crime correlation matrix monthly"
   ]
  },
  {
   "cell_type": "code",
   "execution_count": null,
   "metadata": {},
   "outputs": [],
   "source": [
    "monthly_corrs_lsoa = {}\n",
    "yearly_corrs_lsoa = {}\n",
    "\n",
    "# Monthly correlation matrices\n",
    "for period, df in gdf_joined_lsoa.groupby(gdf_joined_lsoa['Month'].dt.to_period('M')):\n",
    "    pivot = (\n",
    "        df.groupby(['LSOA11NM', 'Crime type'])\n",
    "        .size()\n",
    "        .unstack(fill_value=0)\n",
    "        .astype(int)\n",
    "    )\n",
    "    monthly_corrs_lsoa[str(period)] = pivot.corr(method='pearson')\n",
    "\n",
    "# Yearly correlation matrices\n",
    "for year, df in gdf_joined_lsoa.groupby(gdf_joined_lsoa['Month'].dt.year):\n",
    "    pivot = (\n",
    "        df.groupby(['LSOA11NM', 'Crime type'])\n",
    "        .size()\n",
    "        .unstack(fill_value=0)\n",
    "        .astype(int)\n",
    "    )\n",
    "    yearly_corrs_lsoa[str(year)] = pivot.corr(method='pearson')\n"
   ]
  },
  {
   "cell_type": "code",
   "execution_count": null,
   "metadata": {},
   "outputs": [],
   "source": [
    "frames = []\n",
    "\n",
    "for period, corr in monthly_corrs_lsoa.items():\n",
    "    corr.index.name = 'Crime A'\n",
    "    melted = corr.reset_index().melt(id_vars='Crime A', var_name='Crime B', value_name='Correlation')\n",
    "    melted['Month'] = period\n",
    "    frames.append(melted)\n",
    "\n",
    "animated_df = pd.concat(frames)\n",
    "\n",
    "fig = px.density_heatmap(\n",
    "    animated_df,\n",
    "    x='Crime A',\n",
    "    y='Crime B',\n",
    "    z='Correlation',\n",
    "    animation_frame='Month',\n",
    "    color_continuous_scale='RdBu_r'\n",
    ")\n",
    "\n",
    "fig.update_layout(\n",
    "    title='Monthly Crime Type Correlation (LSOA)',\n",
    "    height=600,\n",
    "    yaxis=dict(categoryorder='category descending')\n",
    ")\n",
    "\n",
    "fig.show()"
   ]
  },
  {
   "cell_type": "markdown",
   "metadata": {},
   "source": [
    "#### Line plots of correlations for each crime type"
   ]
  },
  {
   "cell_type": "code",
   "execution_count": null,
   "metadata": {},
   "outputs": [],
   "source": [
    "# Plotting correlation for all crime type combinations\n",
    "all_crimes = set()\n",
    "for df in monthly_corrs_lsoa.values():\n",
    "    all_crimes.update(df.columns)\n",
    "\n",
    "for base_crime in sorted(all_crimes):\n",
    "    correlation_over_time = []\n",
    "\n",
    "    for month, corr_df in monthly_corrs_lsoa.items():\n",
    "        if base_crime in corr_df.columns:\n",
    "            for crime in corr_df.columns:\n",
    "                if crime != base_crime:\n",
    "                    correlation_over_time.append({\n",
    "                        'Month': month,\n",
    "                        'Crime Type': crime,\n",
    "                        'Correlation': corr_df.at[base_crime, crime]\n",
    "                    })\n",
    "\n",
    "    # Make df for the crime\n",
    "    corr_df = pd.DataFrame(correlation_over_time)\n",
    "    corr_df['Month'] = pd.to_datetime(corr_df['Month'])\n",
    "    corr_df = corr_df.sort_values('Month')\n",
    "\n",
    "    fig = px.line(\n",
    "        corr_df,\n",
    "        x='Month',\n",
    "        y='Correlation',\n",
    "        color='Crime Type',\n",
    "        markers=True,\n",
    "        title=f'{base_crime} Correlation with Other Crime Types Over Time (LSOA)',\n",
    "        range_y=[0, 1]\n",
    "    )\n",
    "\n",
    "    fig.update_layout(height=600)\n",
    "    fig.show()"
   ]
  },
  {
   "cell_type": "code",
   "execution_count": null,
   "metadata": {},
   "outputs": [],
   "source": [
    "# # Define the crime type you want to visualize\n",
    "\n",
    "# crime_types_dict = {\n",
    "#     0: 'Anti-social behaviour',\n",
    "#     1: 'Bicycle theft',\n",
    "#     2: 'Burglary',\n",
    "#     3: 'Criminal damage and arson',\n",
    "#     4: 'Drugs',\n",
    "#     5: 'Other crime',\n",
    "#     6: 'Other theft',\n",
    "#     7: 'Possession of weapons',\n",
    "#     8: 'Public order',\n",
    "#     9: 'Robbery',\n",
    "#     10: 'Shoplifting',\n",
    "#     11: 'Theft from the person',\n",
    "#     12: 'Vehicle crime',\n",
    "#     13: 'Violence and sexual offences'\n",
    "# }\n",
    "\n",
    "# # Change only the index below\n",
    "# crime_type_to_display = crime_types_dict[2]"
   ]
  },
  {
   "cell_type": "code",
   "execution_count": null,
   "metadata": {},
   "outputs": [],
   "source": [
    "# gdf_crime = crimes[crimes['Crime type'] == crime_type_to_display]\n",
    "\n",
    "# gdf_crime = gdf_crime.dropna(subset=['Latitude', 'Longitude'])\n",
    "\n",
    "# gdf_crime = gpd.GeoDataFrame(\n",
    "#     gdf_crime,\n",
    "#     geometry=gpd.points_from_xy(gdf_crime['Longitude'], gdf_crime['Latitude']),\n",
    "#     crs=\"EPSG:4326\"\n",
    "# )\n",
    "\n",
    "# LSOAs = gpd.read_file('data/LSOAs.geojson').to_crs(epsg=4326)\n",
    "\n",
    "# gdf_joined = gpd.sjoin(\n",
    "#     gdf_crime,\n",
    "#     LSOAs[['geometry', 'LSOA11NM']],\n",
    "#     how='left',\n",
    "#     predicate='within'\n",
    "# )\n",
    "\n",
    "# crime_counts = (\n",
    "#     gdf_joined\n",
    "#     .dropna(subset=['LSOA11NM'])\n",
    "#     .groupby('LSOA11NM')\n",
    "#     .size()\n",
    "#     .reset_index(name='Count')\n",
    "# )\n",
    "\n",
    "# fig = px.choropleth_map(\n",
    "#     crime_counts,\n",
    "#     geojson=json.loads(LSOAs.to_json()),\n",
    "#     locations='LSOA11NM',\n",
    "#     featureidkey=\"properties.LSOA11NM\",\n",
    "#     color='Count',\n",
    "#     color_continuous_scale=\"OrRd\",\n",
    "#     title=f'{crime_type_to_display} Heatmap by London LSOA',\n",
    "#     hover_name=\"LSOA11NM\",\n",
    "#     map_style=\"open-street-map\",\n",
    "#     zoom=9,\n",
    "#     center={\"lat\": 51.5072, \"lon\": -0.1276},\n",
    "#     opacity=0.6,\n",
    "#     height=600\n",
    "# )\n",
    "\n",
    "# fig.show()\n"
   ]
  },
  {
   "cell_type": "markdown",
   "metadata": {},
   "source": [
    "### Ward"
   ]
  },
  {
   "cell_type": "markdown",
   "metadata": {},
   "source": [
    "#### Crime correlation matrix for full database"
   ]
  },
  {
   "cell_type": "code",
   "execution_count": null,
   "metadata": {},
   "outputs": [],
   "source": [
    "crimes['Month'] = pd.to_datetime(crimes['Month'])\n",
    "\n",
    "gdf_crimes = gpd.GeoDataFrame(\n",
    "    crimes,\n",
    "    geometry=gpd.points_from_xy(crimes['Longitude'], crimes['Latitude']),\n",
    "    crs=\"EPSG:4326\"\n",
    ")\n",
    "\n",
    "wards = gpd.read_file('data/wards.geojson').to_crs(epsg=4326)\n",
    "\n",
    "gdf_joined_ward = gpd.sjoin(\n",
    "    gdf_crimes,\n",
    "    wards[['geometry', 'Name']],\n",
    "    how='left',\n",
    "    predicate='within'\n",
    ")\n",
    "\n",
    "# Count crimes per ward and crime type\n",
    "ward_counts = (\n",
    "    gdf_joined_ward\n",
    "    .dropna(subset=['Name'])\n",
    "    .groupby(['Name', 'Crime type'])\n",
    "    .size()\n",
    "    .reset_index(name='count')\n",
    ")\n",
    "\n",
    "# Create grid\n",
    "ward_crime_grid = ward_counts.pivot(index='Name', columns='Crime type', values='count').fillna(0).astype(int)\n",
    "\n",
    "ward_crime_grid.head()"
   ]
  },
  {
   "cell_type": "code",
   "execution_count": null,
   "metadata": {},
   "outputs": [],
   "source": [
    "# Create correlation matrix\n",
    "ward_corr = ward_crime_grid.corr(method='pearson')\n",
    "\n",
    "plt.figure(figsize=(12, 8))\n",
    "sns.heatmap(ward_corr, annot=True, cmap='coolwarm', fmt=\".2f\")\n",
    "plt.title('Correlation of Crime Types (Ward)')\n",
    "plt.show()"
   ]
  },
  {
   "cell_type": "markdown",
   "metadata": {},
   "source": [
    "#### Crime correlation matrix yearly & monthly"
   ]
  },
  {
   "cell_type": "code",
   "execution_count": null,
   "metadata": {},
   "outputs": [],
   "source": [
    "# Make Month datetime & add cols\n",
    "#crimes['Month'] = pd.to_datetime(crimes['Month'])\n",
    "\n",
    "crimes['Year'] = crimes['Month'].dt.year\n",
    "crimes['YearMonth'] = crimes['Month'].dt.to_period('M').astype(str)\n",
    "\n",
    "crimes.head()"
   ]
  },
  {
   "cell_type": "code",
   "execution_count": null,
   "metadata": {},
   "outputs": [],
   "source": [
    "# Function for yearly / monthly correlation matrix\n",
    "def plot_ward_crime_corr(df, title_suffix=''):\n",
    "    gdf = gpd.GeoDataFrame(\n",
    "        df,\n",
    "        geometry=gpd.points_from_xy(df['Longitude'], df['Latitude']),\n",
    "        crs=\"EPSG:4326\"\n",
    "    )\n",
    "\n",
    "    gdf = gpd.sjoin(gdf, wards[['geometry', 'Name']], how='left', predicate='within').dropna(subset=['Name'])\n",
    "\n",
    "    counts = (\n",
    "        gdf\n",
    "        .groupby(['Name', 'Crime type'])\n",
    "        .size()\n",
    "        .reset_index(name='count')\n",
    "    )\n",
    "\n",
    "    grid = counts.pivot(index='Name', columns='Crime type', values='count').fillna(0).astype(int)\n",
    "\n",
    "    corr = grid.corr(method='pearson')\n",
    "\n",
    "    plt.figure(figsize=(12, 8))\n",
    "    sns.heatmap(corr, annot=True, cmap='coolwarm', fmt=\".2f\")\n",
    "    plt.title(f'Correlation of Crime Types (Ward) {title_suffix}')\n",
    "    plt.show()"
   ]
  },
  {
   "cell_type": "code",
   "execution_count": null,
   "metadata": {},
   "outputs": [],
   "source": [
    "# Year & Month example\n",
    "plot_ward_crime_corr(crimes[crimes['Year'] == 2023], title_suffix='(Year 2023)')\n",
    "\n",
    "plot_ward_crime_corr(crimes[crimes['YearMonth'] == '2024-01'], title_suffix='(January 2024)')"
   ]
  },
  {
   "cell_type": "markdown",
   "metadata": {},
   "source": [
    "#### Animated crime correlation matrix monthly"
   ]
  },
  {
   "cell_type": "code",
   "execution_count": null,
   "metadata": {},
   "outputs": [],
   "source": [
    "monthly_corrs_ward = {}\n",
    "yearly_corrs_ward = {}\n",
    "\n",
    "# Monthly correlation matrices\n",
    "for period, df in gdf_joined_ward.groupby(gdf_joined_ward['Month'].dt.to_period('M')):\n",
    "    pivot = (\n",
    "        df.groupby(['Name', 'Crime type'])\n",
    "        .size()\n",
    "        .unstack(fill_value=0)\n",
    "        .astype(int)\n",
    "    )\n",
    "    monthly_corrs_ward[str(period)] = pivot.corr(method='pearson')\n",
    "\n",
    "# Yearly correlation matrices\n",
    "for year, df in gdf_joined_ward.groupby(gdf_joined_ward['Month'].dt.year):\n",
    "    pivot = (\n",
    "        df.groupby(['Name', 'Crime type'])\n",
    "        .size()\n",
    "        .unstack(fill_value=0)\n",
    "        .astype(int)\n",
    "    )\n",
    "    yearly_corrs_ward[str(year)] = pivot.corr(method='pearson')\n"
   ]
  },
  {
   "cell_type": "code",
   "execution_count": null,
   "metadata": {},
   "outputs": [],
   "source": [
    "frames = []\n",
    "\n",
    "for period, corr in monthly_corrs_ward.items():\n",
    "    corr.index.name = 'Crime A'\n",
    "    melted = corr.reset_index().melt(id_vars='Crime A', var_name='Crime B', value_name='Correlation')\n",
    "    melted['Month'] = period\n",
    "    frames.append(melted)\n",
    "\n",
    "animated_df = pd.concat(frames)\n",
    "\n",
    "fig = px.density_heatmap(\n",
    "    animated_df,\n",
    "    x='Crime A',\n",
    "    y='Crime B',\n",
    "    z='Correlation',\n",
    "    animation_frame='Month',\n",
    "    color_continuous_scale='RdBu_r'\n",
    ")\n",
    "\n",
    "fig.update_layout(\n",
    "    title='Monthly Crime Type Correlation (Ward)',\n",
    "    height=600,\n",
    "    yaxis=dict(categoryorder='category descending')\n",
    ")\n",
    "\n",
    "fig.show()"
   ]
  },
  {
   "cell_type": "markdown",
   "metadata": {},
   "source": [
    "#### Line plots of correlations for each crime type"
   ]
  },
  {
   "cell_type": "code",
   "execution_count": null,
   "metadata": {},
   "outputs": [],
   "source": [
    "# Plotting correlation for all crime type combinations\n",
    "all_crimes = set()\n",
    "for df in monthly_corrs_ward.values():\n",
    "    all_crimes.update(df.columns)\n",
    "\n",
    "for base_crime in sorted(all_crimes):\n",
    "    correlation_over_time = []\n",
    "\n",
    "    for month, corr_df in monthly_corrs_ward.items():\n",
    "        if base_crime in corr_df.columns:\n",
    "            for crime in corr_df.columns:\n",
    "                if crime != base_crime:\n",
    "                    correlation_over_time.append({\n",
    "                        'Month': month,\n",
    "                        'Crime Type': crime,\n",
    "                        'Correlation': corr_df.at[base_crime, crime]\n",
    "                    })\n",
    "\n",
    "    # Make df for the crime\n",
    "    corr_df = pd.DataFrame(correlation_over_time)\n",
    "    corr_df['Month'] = pd.to_datetime(corr_df['Month'])\n",
    "    corr_df = corr_df.sort_values('Month')\n",
    "\n",
    "    fig = px.line(\n",
    "        corr_df,\n",
    "        x='Month',\n",
    "        y='Correlation',\n",
    "        color='Crime Type',\n",
    "        markers=True,\n",
    "        title=f'{base_crime} Correlation with Other Crime Types Over Time (Ward)',\n",
    "        range_y=[0, 1]\n",
    "    )\n",
    "\n",
    "    fig.update_layout(height=600)\n",
    "    fig.show()"
   ]
  },
  {
   "cell_type": "markdown",
   "metadata": {},
   "source": [
    "### Borough"
   ]
  },
  {
   "cell_type": "markdown",
   "metadata": {},
   "source": [
    "#### Crime correlation matrix for full database"
   ]
  },
  {
   "cell_type": "code",
   "execution_count": null,
   "metadata": {},
   "outputs": [],
   "source": [
    "crimes['Month'] = pd.to_datetime(crimes['Month'])\n",
    "\n",
    "gdf_crimes = gpd.GeoDataFrame(\n",
    "    crimes,\n",
    "    geometry=gpd.points_from_xy(crimes['Longitude'], crimes['Latitude']),\n",
    "    crs=\"EPSG:4326\"\n",
    ")\n",
    "\n",
    "boroughs = gpd.read_file('data/boroughs.geojson').to_crs(epsg=4326)\n",
    "\n",
    "gdf_joined_borough = gpd.sjoin(\n",
    "    gdf_crimes,\n",
    "    boroughs[['geometry', 'Name']],\n",
    "    how='left',\n",
    "    predicate='within'\n",
    ")\n",
    "\n",
    "# Count crimes per borough and crime type\n",
    "borough_counts = (\n",
    "    gdf_joined_borough\n",
    "    .dropna(subset=['Name'])\n",
    "    .groupby(['Name', 'Crime type'])\n",
    "    .size()\n",
    "    .reset_index(name='count')\n",
    ")\n",
    "\n",
    "# Create grid\n",
    "borough_crime_grid = borough_counts.pivot(index='Name', columns='Crime type', values='count').fillna(0).astype(int)\n",
    "\n",
    "borough_crime_grid.head()"
   ]
  },
  {
   "cell_type": "code",
   "execution_count": null,
   "metadata": {},
   "outputs": [],
   "source": [
    "# Create correlation matrix\n",
    "borough_corr = borough_crime_grid.corr(method='pearson')\n",
    "\n",
    "plt.figure(figsize=(12, 8))\n",
    "sns.heatmap(borough_corr, annot=True, cmap='coolwarm', fmt=\".2f\")\n",
    "plt.title('Correlation of Crime Types (Borough)')\n",
    "plt.show()"
   ]
  },
  {
   "cell_type": "markdown",
   "metadata": {},
   "source": [
    "#### Crime correlation matrix yearly & monthly"
   ]
  },
  {
   "cell_type": "code",
   "execution_count": null,
   "metadata": {},
   "outputs": [],
   "source": [
    "# Make Month datetime & add cols\n",
    "#crimes['Month'] = pd.to_datetime(crimes['Month'])\n",
    "\n",
    "crimes['Year'] = crimes['Month'].dt.year\n",
    "crimes['YearMonth'] = crimes['Month'].dt.to_period('M').astype(str)\n",
    "\n",
    "crimes.head()"
   ]
  },
  {
   "cell_type": "code",
   "execution_count": null,
   "metadata": {},
   "outputs": [],
   "source": [
    "# Function for yearly / monthly correlation matrix\n",
    "def plot_borough_crime_corr(df, title_suffix=''):\n",
    "    gdf = gpd.GeoDataFrame(\n",
    "        df,\n",
    "        geometry=gpd.points_from_xy(df['Longitude'], df['Latitude']),\n",
    "        crs=\"EPSG:4326\"\n",
    "    )\n",
    "\n",
    "    gdf = gpd.sjoin(gdf, wards[['geometry', 'Name']], how='left', predicate='within').dropna(subset=['Name'])\n",
    "\n",
    "    counts = (\n",
    "        gdf\n",
    "        .groupby(['Name', 'Crime type'])\n",
    "        .size()\n",
    "        .reset_index(name='count')\n",
    "    )\n",
    "\n",
    "    grid = counts.pivot(index='Name', columns='Crime type', values='count').fillna(0).astype(int)\n",
    "\n",
    "    corr = grid.corr(method='pearson')\n",
    "\n",
    "    plt.figure(figsize=(12, 8))\n",
    "    sns.heatmap(corr, annot=True, cmap='coolwarm', fmt=\".2f\")\n",
    "    plt.title(f'Correlation of Crime Types (Borough) {title_suffix}')\n",
    "    plt.show()"
   ]
  },
  {
   "cell_type": "code",
   "execution_count": null,
   "metadata": {},
   "outputs": [],
   "source": [
    "# Year & Month example\n",
    "plot_borough_crime_corr(crimes[crimes['Year'] == 2023], title_suffix='(Year 2023)')\n",
    "\n",
    "plot_borough_crime_corr(crimes[crimes['YearMonth'] == '2024-01'], title_suffix='(January 2024)')"
   ]
  },
  {
   "cell_type": "markdown",
   "metadata": {},
   "source": [
    "#### Animated crime correlation matrix monthly"
   ]
  },
  {
   "cell_type": "code",
   "execution_count": null,
   "metadata": {},
   "outputs": [],
   "source": [
    "monthly_corrs_borough = {}\n",
    "yearly_corrs_borough = {}\n",
    "\n",
    "# Monthly correlation matrices\n",
    "for period, df in gdf_joined_borough.groupby(gdf_joined_borough['Month'].dt.to_period('M')):\n",
    "    pivot = (\n",
    "        df.groupby(['Name', 'Crime type'])\n",
    "        .size()\n",
    "        .unstack(fill_value=0)\n",
    "        .astype(int)\n",
    "    )\n",
    "    monthly_corrs_borough[str(period)] = pivot.corr(method='pearson')\n",
    "\n",
    "# Yearly correlation matrices\n",
    "for year, df in gdf_joined_borough.groupby(gdf_joined_borough['Month'].dt.year):\n",
    "    pivot = (\n",
    "        df.groupby(['Name', 'Crime type'])\n",
    "        .size()\n",
    "        .unstack(fill_value=0)\n",
    "        .astype(int)\n",
    "    )\n",
    "    yearly_corrs_borough[str(year)] = pivot.corr(method='pearson')\n"
   ]
  },
  {
   "cell_type": "code",
   "execution_count": null,
   "metadata": {},
   "outputs": [],
   "source": [
    "frames = []\n",
    "\n",
    "for period, corr in monthly_corrs_borough.items():\n",
    "    corr.index.name = 'Crime A'\n",
    "    melted = corr.reset_index().melt(id_vars='Crime A', var_name='Crime B', value_name='Correlation')\n",
    "    melted['Month'] = period\n",
    "    frames.append(melted)\n",
    "\n",
    "animated_df = pd.concat(frames)\n",
    "\n",
    "fig = px.density_heatmap(\n",
    "    animated_df,\n",
    "    x='Crime A',\n",
    "    y='Crime B',\n",
    "    z='Correlation',\n",
    "    animation_frame='Month',\n",
    "    color_continuous_scale='RdBu_r'\n",
    ")\n",
    "\n",
    "fig.update_layout(\n",
    "    title='Monthly Crime Type Correlation (Borough)',\n",
    "    height=600,\n",
    "    yaxis=dict(categoryorder='category descending')\n",
    ")\n",
    "\n",
    "fig.show()"
   ]
  },
  {
   "cell_type": "markdown",
   "metadata": {},
   "source": [
    "#### Line plots of correlations for each crime type"
   ]
  },
  {
   "cell_type": "code",
   "execution_count": null,
   "metadata": {},
   "outputs": [],
   "source": [
    "# Plotting correlation for all crime type combinations\n",
    "all_crimes = set()\n",
    "for df in monthly_corrs_borough.values():\n",
    "    all_crimes.update(df.columns)\n",
    "\n",
    "for base_crime in sorted(all_crimes):\n",
    "    correlation_over_time = []\n",
    "\n",
    "    for month, corr_df in monthly_corrs_borough.items():\n",
    "        if base_crime in corr_df.columns:\n",
    "            for crime in corr_df.columns:\n",
    "                if crime != base_crime:\n",
    "                    correlation_over_time.append({\n",
    "                        'Month': month,\n",
    "                        'Crime Type': crime,\n",
    "                        'Correlation': corr_df.at[base_crime, crime]\n",
    "                    })\n",
    "\n",
    "    # Make df for the crime\n",
    "    corr_df = pd.DataFrame(correlation_over_time)\n",
    "    corr_df['Month'] = pd.to_datetime(corr_df['Month'])\n",
    "    corr_df = corr_df.sort_values('Month')\n",
    "\n",
    "    fig = px.line(\n",
    "        corr_df,\n",
    "        x='Month',\n",
    "        y='Correlation',\n",
    "        color='Crime Type',\n",
    "        markers=True,\n",
    "        title=f'{base_crime} Correlation with Other Crime Types Over Time (Borough)',\n",
    "        range_y=[0, 1]\n",
    "    )\n",
    "\n",
    "    fig.update_layout(height=600)\n",
    "    fig.show()"
   ]
  },
  {
   "cell_type": "markdown",
   "metadata": {},
   "source": [
    "### Correlated crime pairs"
   ]
  },
  {
   "cell_type": "code",
   "execution_count": null,
   "metadata": {},
   "outputs": [],
   "source": [
    "def get_top_correlated_pairs(corr_matrix, top_n=5):\n",
    "    corr_matrix = corr_matrix.copy()\n",
    "    pairs = []\n",
    "\n",
    "    for i, crime_a in enumerate(corr_matrix.columns):\n",
    "        for j, crime_b in enumerate(corr_matrix.columns):\n",
    "            if j > i:\n",
    "                corr_value = corr_matrix.loc[crime_a, crime_b]\n",
    "                pairs.append((crime_a, crime_b, corr_value))\n",
    "    \n",
    "    sorted_pairs = sorted(pairs, key=lambda x: abs(x[2]), reverse=True)\n",
    "    return pd.DataFrame(sorted_pairs[:top_n], columns=['Crime A', 'Crime B', 'Correlation'])\n"
   ]
  },
  {
   "cell_type": "code",
   "execution_count": null,
   "metadata": {},
   "outputs": [],
   "source": [
    "yearly_granularities = {\n",
    "    \"LSOA\": yearly_corrs_lsoa,\n",
    "    \"Ward\": yearly_corrs_ward,\n",
    "    \"Borough\": yearly_corrs_borough\n",
    "}\n",
    "\n",
    "def get_top_correlated_pairs(corr_matrix, top_n=5):\n",
    "    if corr_matrix is None:\n",
    "        return pd.DataFrame()\n",
    "    \n",
    "    corr_matrix = corr_matrix.copy()\n",
    "    pairs = []\n",
    "    \n",
    "    for i, crime_a in enumerate(corr_matrix.columns):\n",
    "        for j, crime_b in enumerate(corr_matrix.columns):\n",
    "            if i < j:\n",
    "                pairs.append({\n",
    "                    'Crime A': crime_a,\n",
    "                    'Crime B': crime_b,\n",
    "                    'Correlation': corr_matrix.iloc[i, j]\n",
    "                })\n",
    "    \n",
    "    top_pairs = pd.DataFrame(pairs).sort_values(by='Correlation', ascending=False).head(top_n)\n",
    "    return top_pairs\n",
    "\n",
    "for granularity in ['LSOA', 'Ward', 'Borough']:\n",
    "    print(f\"\\n== Top correlated crime pairs by {granularity} ==\")\n",
    "    \n",
    "    yearly_corr_dict = yearly_granularities[granularity]\n",
    "    for year, corr in yearly_corr_dict.items():\n",
    "        print(f\"\\nYear: {year}\")\n",
    "        display(get_top_correlated_pairs(corr, top_n=5))\n"
   ]
  },
  {
   "cell_type": "markdown",
   "metadata": {},
   "source": [
    "### Spatial hotspots Burglary correlations"
   ]
  },
  {
   "cell_type": "code",
   "execution_count": null,
   "metadata": {},
   "outputs": [],
   "source": [
    "def compute_spatial_correlation(df, area_col, crimes_to_include, focus_crime='Burglary'):\n",
    "    pivot = df.groupby([area_col, 'Crime type']).size().unstack(fill_value=0)\n",
    "    correlations = {}\n",
    "    \n",
    "    for crime in crimes_to_include:\n",
    "        if crime != focus_crime and crime in pivot.columns:\n",
    "            correlations[crime] = pivot[focus_crime].corr(pivot[crime])\n",
    "    \n",
    "    return pd.Series(correlations, name='Correlation')\n"
   ]
  },
  {
   "cell_type": "code",
   "execution_count": null,
   "metadata": {},
   "outputs": [],
   "source": [
    "def plot_spatial_correlation_map(df, gdf, area_col, area, focus_crime='Burglary'):\n",
    "    crimes = df['Crime type'].unique()\n",
    "    \n",
    "    for other_crime in crimes:\n",
    "        if other_crime == focus_crime:\n",
    "            continue\n",
    "        \n",
    "        # Filter only two crime types\n",
    "        subset = df[df['Crime type'].isin([focus_crime, other_crime])]\n",
    "        \n",
    "        # Count crimes per area\n",
    "        counts = subset.groupby([area_col, 'Crime type']).size().unstack(fill_value=0)\n",
    "        \n",
    "        # Skip if insufficient data\n",
    "        if focus_crime not in counts.columns or other_crime not in counts.columns:\n",
    "            continue\n",
    "        \n",
    "        # Calculate average intensity\n",
    "        counts['Joint Intensity'] = (counts[focus_crime] + counts[other_crime]) / 2\n",
    "\n",
    "        merged = gdf.merge(counts, left_on=area_col, right_index=True, how='left')\n",
    "\n",
    "        fig = px.choropleth_map(\n",
    "            merged,\n",
    "            geojson=merged.geometry,\n",
    "            locations=merged.index,\n",
    "            color='Joint Intensity',\n",
    "            color_continuous_scale='Viridis',\n",
    "            map_style='carto-positron',\n",
    "            zoom=9,\n",
    "            center={\"lat\": 51.5072, \"lon\": -0.1276},\n",
    "            opacity=0.7,\n",
    "            title=f\"Burglary & {other_crime} Intensity ({area})\",\n",
    "            height=600\n",
    "        )\n",
    "        fig.show()\n"
   ]
  },
  {
   "cell_type": "code",
   "execution_count": null,
   "metadata": {},
   "outputs": [],
   "source": [
    "plot_spatial_correlation_map(gdf_joined_lsoa, LSOAs, 'LSOA11NM', \"LSOA\", focus_crime='Burglary')"
   ]
  },
  {
   "cell_type": "code",
   "execution_count": null,
   "metadata": {},
   "outputs": [],
   "source": [
    "plot_spatial_correlation_map(gdf_joined_ward, wards, 'Name', \"Ward\", focus_crime='Burglary')"
   ]
  },
  {
   "cell_type": "code",
   "execution_count": null,
   "metadata": {},
   "outputs": [],
   "source": [
    "plot_spatial_correlation_map(gdf_joined_borough, boroughs, 'Name', \"Borough\", focus_crime='Burglary')"
   ]
  },
  {
   "cell_type": "markdown",
   "metadata": {},
   "source": [
    "### Conclusions"
   ]
  },
  {
   "cell_type": "markdown",
   "metadata": {},
   "source": [
    "I looked at correlation between the different crime types, for this I generated and analyzed correlation based heatmaps for the full dataset, yearly data, and monthly data for the following three different granularity levels: LSOA, Ward, Borough (I also created a heatmap with a monthly slider for each granularity level). Furthermore I generated a line graph for each crime type with a line indicating the correlation for all other crimes on a monthly base, also for the three granularity levels above. Finally, I generated spatial correlation maps visualizing the intensity of Burglary and all other crime types for all three granularity levels.\n",
    "\n",
    "Based on the above described generated visuals, I conclude the following:\n",
    "- The correlation between: 'Other theft', 'Theft from the person', and 'Robbery' is very high and stable for all granularities and timeframes\n",
    "- 'Other crime' has a very low correlation with all other crime types\n",
    "- The correlation between: 'Vehicle crime' and 'Bicycle theft' is very low and stable for all granularities and timeframes\n",
    "- Crime correlation analysis on Borough level is rather difficult since larger area means higher frequency for all crimes, thus resulting in high correlation values\n",
    "- There does not seem to be notable significance of correlation pairs that experience temporal patterns\n",
    "\n",
    "For Burglary, the spatial correlation maps do not seem very useful. High intensity areas seem to originate mostly from one of the crime types to be very frequent; giving the false idea of correlation. This is likely because this correlation testing uses raw correlation on crime counts, so areas with more crime in general, could depict a high level of correlation too (Central London for example). The correlation could mostly be picking up general crime intensity, instead of meaningful insights in terms of correlation. Conclusion for Burglary, there does not seem to be any significant correlation between Burglary and any other crime type (using absolute crime counts for correlation computation)."
   ]
  }
 ],
 "metadata": {
  "kernelspec": {
   "display_name": "Python 3",
   "language": "python",
   "name": "python3"
  },
  "language_info": {
   "codemirror_mode": {
    "name": "ipython",
    "version": 3
   },
   "file_extension": ".py",
   "mimetype": "text/x-python",
   "name": "python",
   "nbconvert_exporter": "python",
   "pygments_lexer": "ipython3",
   "version": "3.12.0"
  }
 },
 "nbformat": 4,
 "nbformat_minor": 2
}
